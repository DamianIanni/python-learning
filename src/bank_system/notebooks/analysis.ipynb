{
 "cells": [
  {
   "cell_type": "code",
   "execution_count": 1,
   "id": "93a65298-ed83-4855-9891-f309eac35125",
   "metadata": {},
   "outputs": [
    {
     "name": "stdout",
     "output_type": "stream",
     "text": [
      "Total enviado por usuario:\n"
     ]
    },
    {
     "data": {
      "text/plain": [
       "from_user_id\n",
       "1    1000\n",
       "3    2000\n",
       "5    6000\n",
       "Name: amount, dtype: int64"
      ]
     },
     "metadata": {},
     "output_type": "display_data"
    }
   ],
   "source": [
    "import pandas as pd\n",
    "from IPython.display import display\n",
    "import matplotlib.pyplot as plt\n",
    "\n",
    "# Cargamos el archivo CSV generado por tu app bancaria\n",
    "tx_file = pd.read_csv(\"../__data__/transactions.csv\")\n",
    "u_file = pd.read_csv(\"../__data__/users.csv\")\n",
    "print(\"Total enviado por usuario:\")\n",
    "display(tx_file.groupby('from_user_id')['amount'].sum())"
   ]
  },
  {
   "cell_type": "code",
   "execution_count": 2,
   "id": "c4470133-76f5-43a4-a4a5-8d4a0700086d",
   "metadata": {},
   "outputs": [
    {
     "name": "stdout",
     "output_type": "stream",
     "text": [
      "Total recibido por usuario:\n"
     ]
    },
    {
     "data": {
      "text/plain": [
       "to_user_id\n",
       "1    2000\n",
       "2    1000\n",
       "4    6000\n",
       "Name: amount, dtype: int64"
      ]
     },
     "metadata": {},
     "output_type": "display_data"
    }
   ],
   "source": [
    "print(\"Total recibido por usuario:\")\n",
    "display(tx_file.groupby('to_user_id')['amount'].sum())"
   ]
  },
  {
   "cell_type": "code",
   "execution_count": 3,
   "id": "13f8b8f0-a9e3-4a3a-b1e7-537a8c121a8a",
   "metadata": {},
   "outputs": [
    {
     "data": {
      "text/plain": [
       "to_user_id\n",
       "4    2\n",
       "1    1\n",
       "2    1\n",
       "Name: count, dtype: int64"
      ]
     },
     "metadata": {},
     "output_type": "display_data"
    }
   ],
   "source": [
    "# print('Users with more deposits:')\n",
    "display(tx_file.value_counts('to_user_id'))"
   ]
  },
  {
   "cell_type": "code",
   "execution_count": 4,
   "id": "3e6dc801-6ad4-4730-bf07-35b9d5a79356",
   "metadata": {},
   "outputs": [
    {
     "data": {
      "text/plain": [
       "from_user_id\n",
       "5    2\n",
       "1    1\n",
       "3    1\n",
       "Name: count, dtype: int64"
      ]
     },
     "metadata": {},
     "output_type": "display_data"
    }
   ],
   "source": [
    "# print('Users with more withdraws:')\n",
    "display(tx_file.value_counts('from_user_id'))"
   ]
  },
  {
   "cell_type": "code",
   "execution_count": 5,
   "id": "16527fe1-dcd7-4123-9261-db11c6d009ab",
   "metadata": {
    "scrolled": true
   },
   "outputs": [
    {
     "data": {
      "text/html": [
       "<div>\n",
       "<style scoped>\n",
       "    .dataframe tbody tr th:only-of-type {\n",
       "        vertical-align: middle;\n",
       "    }\n",
       "\n",
       "    .dataframe tbody tr th {\n",
       "        vertical-align: top;\n",
       "    }\n",
       "\n",
       "    .dataframe thead th {\n",
       "        text-align: right;\n",
       "    }\n",
       "</style>\n",
       "<table border=\"1\" class=\"dataframe\">\n",
       "  <thead>\n",
       "    <tr style=\"text-align: right;\">\n",
       "      <th></th>\n",
       "      <th>from_user_id</th>\n",
       "      <th>to_user_id</th>\n",
       "      <th>amount</th>\n",
       "      <th>timestamp</th>\n",
       "    </tr>\n",
       "  </thead>\n",
       "  <tbody>\n",
       "    <tr>\n",
       "      <th>0</th>\n",
       "      <td>1</td>\n",
       "      <td>2</td>\n",
       "      <td>1000</td>\n",
       "      <td>2025-06-26 15:20:49.513653</td>\n",
       "    </tr>\n",
       "    <tr>\n",
       "      <th>1</th>\n",
       "      <td>3</td>\n",
       "      <td>1</td>\n",
       "      <td>2000</td>\n",
       "      <td>2025-06-26 15:20:49.513660</td>\n",
       "    </tr>\n",
       "    <tr>\n",
       "      <th>2</th>\n",
       "      <td>5</td>\n",
       "      <td>4</td>\n",
       "      <td>3000</td>\n",
       "      <td>2025-06-26 15:20:49.513664</td>\n",
       "    </tr>\n",
       "    <tr>\n",
       "      <th>3</th>\n",
       "      <td>5</td>\n",
       "      <td>4</td>\n",
       "      <td>3000</td>\n",
       "      <td>2025-06-26 15:20:49.513665</td>\n",
       "    </tr>\n",
       "  </tbody>\n",
       "</table>\n",
       "</div>"
      ],
      "text/plain": [
       "   from_user_id  to_user_id  amount                   timestamp\n",
       "0             1           2    1000  2025-06-26 15:20:49.513653\n",
       "1             3           1    2000  2025-06-26 15:20:49.513660\n",
       "2             5           4    3000  2025-06-26 15:20:49.513664\n",
       "3             5           4    3000  2025-06-26 15:20:49.513665"
      ]
     },
     "metadata": {},
     "output_type": "display_data"
    }
   ],
   "source": [
    "# print(\"Table of transactions\")\n",
    "display(tx_file.head())"
   ]
  },
  {
   "cell_type": "code",
   "execution_count": 6,
   "id": "e48fdec2-3e6c-44d4-8c1f-e3078094b772",
   "metadata": {},
   "outputs": [
    {
     "data": {
      "text/plain": [
       "date\n",
       "2025-06-26    4\n",
       "Name: count, dtype: int64"
      ]
     },
     "metadata": {},
     "output_type": "display_data"
    }
   ],
   "source": [
    "# Transaction per day\n",
    "tx_file[\"date\"] = pd.to_datetime(tx_file['timestamp']).dt.date\n",
    "display(tx_file.value_counts(\"date\"))"
   ]
  },
  {
   "cell_type": "code",
   "execution_count": 7,
   "id": "51b8bedf-c7e4-459a-842e-1d2dcce4829a",
   "metadata": {},
   "outputs": [
    {
     "data": {
      "text/html": [
       "<div>\n",
       "<style scoped>\n",
       "    .dataframe tbody tr th:only-of-type {\n",
       "        vertical-align: middle;\n",
       "    }\n",
       "\n",
       "    .dataframe tbody tr th {\n",
       "        vertical-align: top;\n",
       "    }\n",
       "\n",
       "    .dataframe thead th {\n",
       "        text-align: right;\n",
       "    }\n",
       "</style>\n",
       "<table border=\"1\" class=\"dataframe\">\n",
       "  <thead>\n",
       "    <tr style=\"text-align: right;\">\n",
       "      <th></th>\n",
       "      <th>from_user_id</th>\n",
       "      <th>to_user_id</th>\n",
       "      <th>amount</th>\n",
       "      <th>timestamp</th>\n",
       "      <th>date</th>\n",
       "      <th>user_id</th>\n",
       "      <th>name</th>\n",
       "      <th>balance</th>\n",
       "      <th>country</th>\n",
       "    </tr>\n",
       "  </thead>\n",
       "  <tbody>\n",
       "    <tr>\n",
       "      <th>0</th>\n",
       "      <td>1.0</td>\n",
       "      <td>2.0</td>\n",
       "      <td>1000.0</td>\n",
       "      <td>2025-06-26 15:20:49.513653</td>\n",
       "      <td>2025-06-26</td>\n",
       "      <td>1</td>\n",
       "      <td>Damian</td>\n",
       "      <td>3500</td>\n",
       "      <td>Argentina</td>\n",
       "    </tr>\n",
       "    <tr>\n",
       "      <th>1</th>\n",
       "      <td>NaN</td>\n",
       "      <td>NaN</td>\n",
       "      <td>NaN</td>\n",
       "      <td>NaN</td>\n",
       "      <td>NaN</td>\n",
       "      <td>2</td>\n",
       "      <td>Lautaro</td>\n",
       "      <td>7500</td>\n",
       "      <td>Argentina</td>\n",
       "    </tr>\n",
       "    <tr>\n",
       "      <th>2</th>\n",
       "      <td>3.0</td>\n",
       "      <td>1.0</td>\n",
       "      <td>2000.0</td>\n",
       "      <td>2025-06-26 15:20:49.513660</td>\n",
       "      <td>2025-06-26</td>\n",
       "      <td>3</td>\n",
       "      <td>Pauline</td>\n",
       "      <td>0</td>\n",
       "      <td>Germany</td>\n",
       "    </tr>\n",
       "    <tr>\n",
       "      <th>3</th>\n",
       "      <td>NaN</td>\n",
       "      <td>NaN</td>\n",
       "      <td>NaN</td>\n",
       "      <td>NaN</td>\n",
       "      <td>NaN</td>\n",
       "      <td>4</td>\n",
       "      <td>Lina</td>\n",
       "      <td>11000</td>\n",
       "      <td>Germany</td>\n",
       "    </tr>\n",
       "    <tr>\n",
       "      <th>4</th>\n",
       "      <td>5.0</td>\n",
       "      <td>4.0</td>\n",
       "      <td>3000.0</td>\n",
       "      <td>2025-06-26 15:20:49.513664</td>\n",
       "      <td>2025-06-26</td>\n",
       "      <td>5</td>\n",
       "      <td>John</td>\n",
       "      <td>2430</td>\n",
       "      <td>UnitedStates</td>\n",
       "    </tr>\n",
       "    <tr>\n",
       "      <th>5</th>\n",
       "      <td>5.0</td>\n",
       "      <td>4.0</td>\n",
       "      <td>3000.0</td>\n",
       "      <td>2025-06-26 15:20:49.513665</td>\n",
       "      <td>2025-06-26</td>\n",
       "      <td>5</td>\n",
       "      <td>John</td>\n",
       "      <td>2430</td>\n",
       "      <td>UnitedStates</td>\n",
       "    </tr>\n",
       "  </tbody>\n",
       "</table>\n",
       "</div>"
      ],
      "text/plain": [
       "   from_user_id  to_user_id  amount                   timestamp        date  \\\n",
       "0           1.0         2.0  1000.0  2025-06-26 15:20:49.513653  2025-06-26   \n",
       "1           NaN         NaN     NaN                         NaN         NaN   \n",
       "2           3.0         1.0  2000.0  2025-06-26 15:20:49.513660  2025-06-26   \n",
       "3           NaN         NaN     NaN                         NaN         NaN   \n",
       "4           5.0         4.0  3000.0  2025-06-26 15:20:49.513664  2025-06-26   \n",
       "5           5.0         4.0  3000.0  2025-06-26 15:20:49.513665  2025-06-26   \n",
       "\n",
       "   user_id     name  balance       country  \n",
       "0        1   Damian     3500     Argentina  \n",
       "1        2  Lautaro     7500     Argentina  \n",
       "2        3  Pauline        0       Germany  \n",
       "3        4     Lina    11000       Germany  \n",
       "4        5     John     2430  UnitedStates  \n",
       "5        5     John     2430  UnitedStates  "
      ]
     },
     "metadata": {},
     "output_type": "display_data"
    }
   ],
   "source": [
    "# Merge tables\n",
    "# print(u_file.columns)\n",
    "txs_with_users = pd.merge(\n",
    "    tx_file,\n",
    "    u_file,\n",
    "    left_on = \"from_user_id\",\n",
    "    right_on = \"user_id\",\n",
    "    how = \"right\"\n",
    ")\n",
    "display(txs_with_users)"
   ]
  },
  {
   "cell_type": "code",
   "execution_count": 8,
   "id": "8ffa1e3e-113e-42e0-8aa7-953105df8907",
   "metadata": {},
   "outputs": [
    {
     "data": {
      "text/plain": [
       "from_user_id    2\n",
       "to_user_id      2\n",
       "amount          2\n",
       "timestamp       2\n",
       "date            2\n",
       "user_id         0\n",
       "name            0\n",
       "balance         0\n",
       "country         0\n",
       "dtype: int64"
      ]
     },
     "metadata": {},
     "output_type": "display_data"
    }
   ],
   "source": [
    "# Diagnose merged DF\n",
    "cl_df = txs_with_users.isna().sum()\n",
    "display(cl_df)"
   ]
  },
  {
   "cell_type": "code",
   "execution_count": 9,
   "id": "7839962c-f3a8-4fc1-9b34-e142292ddb93",
   "metadata": {},
   "outputs": [
    {
     "data": {
      "text/plain": [
       "np.int64(0)"
      ]
     },
     "metadata": {},
     "output_type": "display_data"
    }
   ],
   "source": [
    "# Diagnose merged DF\n",
    "cl_df = txs_with_users.duplicated().sum()\n",
    "display(cl_df)"
   ]
  },
  {
   "cell_type": "code",
   "execution_count": 10,
   "id": "94688123-040a-4918-b40e-d1249b115ff9",
   "metadata": {},
   "outputs": [
    {
     "data": {
      "image/png": "[encoded data removed]",
      "text/plain": [
       "<Figure size 640x480 with 1 Axes>"
      ]
     },
     "metadata": {},
     "output_type": "display_data"
    }
   ],
   "source": [
    "txs_with_users.groupby(\"name\")[\"amount\"].sum().plot.bar()\n",
    "plt.title(\"Monto total transferido por usuario\")\n",
    "plt.xlabel(\"Usuario\")\n",
    "plt.ylabel(\"Monto ($)\")\n",
    "plt.show()"
   ]
  },
  {
   "cell_type": "code",
   "execution_count": 11,
   "id": "49560d64-f58f-4137-9b2d-dd7b07c29dac",
   "metadata": {},
   "outputs": [
    {
     "data": {
      "image/png": "[encoded data removed]",
      "text/plain": [
       "<Figure size 1000x600 with 1 Axes>"
      ]
     },
     "metadata": {},
     "output_type": "display_data"
    }
   ],
   "source": [
    "# Agrupamos por nombre y sumamos montos enviados y recibidos\n",
    "sent = txs_with_users.groupby(\"name\")[\"amount\"].sum()\n",
    "\n",
    "# Merge para obtener las recepciones\n",
    "received = txs_with_users.groupby(\"to_user_id\")[\"amount\"].sum()\n",
    "# Pero acá no tenemos el nombre del receptor, así que hay que mapearlo\n",
    "id_to_name = txs_with_users.set_index(\"user_id\")[\"name\"].to_dict()\n",
    "received.index = received.index.map(id_to_name)\n",
    "\n",
    "# Ahora los juntamos en un nuevo DataFrame\n",
    "summary_df = pd.DataFrame({\n",
    "    \"Enviado\": sent,\n",
    "    \"Recibido\": received\n",
    "})\n",
    "\n",
    "# Graficamos\n",
    "summary_df.plot(kind=\"bar\", figsize=(10, 6))\n",
    "plt.title(\"Montos enviados y recibidos por usuario\")\n",
    "plt.xlabel(\"Usuario\")\n",
    "plt.ylabel(\"Monto ($)\")\n",
    "plt.grid(True)\n",
    "plt.show()"
   ]
  },
  {
   "cell_type": "code",
   "execution_count": null,
   "id": "8b861cc6-121c-4159-8161-dd911e6ca3b5",
   "metadata": {},
   "outputs": [],
   "source": []
  }
 ],
 "metadata": {
  "kernelspec": {
   "display_name": "Python 3 (ipykernel)",
   "language": "python",
   "name": "python3"
  },
  "language_info": {
   "codemirror_mode": {
    "name": "ipython",
    "version": 3
   },
   "file_extension": ".py",
   "mimetype": "text/x-python",
   "name": "python",
   "nbconvert_exporter": "python",
   "pygments_lexer": "ipython3",
   "version": "3.13.1"
  }
 },
 "nbformat": 4,
 "nbformat_minor": 5
}
